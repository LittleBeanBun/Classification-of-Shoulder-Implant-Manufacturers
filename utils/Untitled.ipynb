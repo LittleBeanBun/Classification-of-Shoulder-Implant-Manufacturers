{
 "cells": [
  {
   "cell_type": "code",
   "execution_count": 4,
   "id": "93d978d3-b230-4520-84dc-6928cecca12f",
   "metadata": {},
   "outputs": [
    {
     "name": "stderr",
     "output_type": "stream",
     "text": [
      "train-images-idx3-ubyte.gz已经存在.\n",
      "train-labels-idx1-ubyte.gz已经存在.\n",
      "t10k-images-idx3-ubyte.gz已经存在.\n",
      "t10k-labels-idx1-ubyte.gz已经存在.\n"
     ]
    }
   ],
   "source": [
    "\"\"\"\n",
    "下载MNIST数据集脚本\n",
    "\"\"\"\n",
    "\n",
    "import os\n",
    "from pathlib import Path\n",
    "import logging\n",
    "\n",
    "import wget\n",
    "\n",
    "logging.basicConfig(level=logging.INFO, format=\"%(message)s\")\n",
    "\n",
    "\n",
    "def download_minst(save_dir: str = None) -> bool:\n",
    "    \"\"\"下载MNIST数据集\n",
    "    输入参数:\n",
    "        save_dir: MNIST数据集的保存地址. 类型: 字符串.\n",
    "\n",
    "    返回值:\n",
    "        全部下载成功返回True, 否则返回False\n",
    "    \"\"\"\n",
    "    \n",
    "    save_dir = Path(save_dir)\n",
    "    train_set_imgs_addr = save_dir / \"train-images-idx3-ubyte.gz\"\n",
    "    train_set_labels_addr = save_dir / \"train-labels-idx1-ubyte.gz\"\n",
    "    test_set_imgs_addr = save_dir / \"t10k-images-idx3-ubyte.gz\"\n",
    "    test_set_labels_addr = save_dir / \"t10k-labels-idx1-ubyte.gz\"\n",
    "\n",
    "    try:\n",
    "        if not os.path.exists(train_set_imgs_addr):\n",
    "            logging.info(\"下载train-images-idx3-ubyte.gz\")\n",
    "            filename = wget.download(url=\"http://yann.lecun.com/exdb/mnist/train-images-idx3-ubyte.gz\", out=str(train_set_imgs_addr))\n",
    "            logging.info(\"\\tdone.\")\n",
    "        else:\n",
    "            logging.info(\"train-images-idx3-ubyte.gz已经存在.\")\n",
    "\n",
    "        if not os.path.exists(train_set_labels_addr):\n",
    "            logging.info(\"下载train-labels-idx1-ubyte.gz.\")\n",
    "            filename = wget.download(url=\"http://yann.lecun.com/exdb/mnist/train-labels-idx1-ubyte.gz\", out=str(train_set_labels_addr))\n",
    "            logging.info(\"\\tdone.\")\n",
    "        else:\n",
    "            logging.info(\"train-labels-idx1-ubyte.gz已经存在.\")\n",
    "\n",
    "        if not os.path.exists(test_set_imgs_addr):\n",
    "            logging.info(\"下载t10k-images-idx3-ubyte.gz.\")\n",
    "            filename = wget.download(url=\"http://yann.lecun.com/exdb/mnist/t10k-images-idx3-ubyte.gz\", out=str(test_set_imgs_addr))\n",
    "            logging.info(\"\\tdone.\")\n",
    "        else:\n",
    "            logging.info(\"t10k-images-idx3-ubyte.gz已经存在.\")\n",
    "\n",
    "        if not os.path.exists(test_set_labels_addr):\n",
    "            logging.info(\"下载t10k-labels-idx1-ubyte.gz.\")\n",
    "            filename = wget.download(url=\"http://yann.lecun.com/exdb/mnist/t10k-labels-idx1-ubyte.gz\", out=str(test_set_labels_addr))\n",
    "            logging.info(\"\\tdone.\")\n",
    "        else:\n",
    "            logging.info(\"t10k-labels-idx1-ubyte.gz已经存在.\")\n",
    "        \n",
    "    except:\n",
    "        return False\n",
    "    \n",
    "    return True\n",
    "\n",
    "\n",
    "if __name__ == \"__main__\":\n",
    "\tdownload_minst(save_dir=\"./\")\n",
    "\n"
   ]
  },
  {
   "cell_type": "code",
   "execution_count": 2,
   "id": "18fa268b-9337-4b7c-8482-617cb3ef1d0d",
   "metadata": {},
   "outputs": [
    {
     "name": "stdout",
     "output_type": "stream",
     "text": [
      "Looking in indexes: https://repo.huaweicloud.com/repository/pypi/simple\n",
      "Collecting wget\n",
      "  Downloading https://repo.huaweicloud.com/repository/pypi/packages/47/6a/62e288da7bcda82b935ff0c6cfe542970f04e29c756b0e147251b2fb251f/wget-3.2.zip (10 kB)\n",
      "Building wheels for collected packages: wget\n",
      "  Building wheel for wget (setup.py) ... \u001b[?25ldone\n",
      "\u001b[?25h  Created wheel for wget: filename=wget-3.2-py3-none-any.whl size=9680 sha256=62e144e427ea321611200c7bf2e30511d68e8631b14c7ed2e1457f80ac37e8ec\n",
      "  Stored in directory: /root/.cache/pip/wheels/8d/a1/e3/2a36229518857efc567067a67c946ae0dbbb96425739fa60c9\n",
      "Successfully built wget\n",
      "Installing collected packages: wget\n",
      "Successfully installed wget-3.2\n",
      "\u001b[33mWARNING: Running pip as the 'root' user can result in broken permissions and conflicting behaviour with the system package manager. It is recommended to use a virtual environment instead: https://pip.pypa.io/warnings/venv\u001b[0m\n"
     ]
    }
   ],
   "source": [
    "!pip install wget"
   ]
  },
  {
   "cell_type": "code",
   "execution_count": null,
   "id": "5ad2192e-c86e-42df-b2fc-9f8a9980bc05",
   "metadata": {},
   "outputs": [],
   "source": []
  }
 ],
 "metadata": {
  "kernelspec": {
   "display_name": "Python 3 (ipykernel)",
   "language": "python",
   "name": "python3"
  },
  "language_info": {
   "codemirror_mode": {
    "name": "ipython",
    "version": 3
   },
   "file_extension": ".py",
   "mimetype": "text/x-python",
   "name": "python",
   "nbconvert_exporter": "python",
   "pygments_lexer": "ipython3",
   "version": "3.8.10"
  }
 },
 "nbformat": 4,
 "nbformat_minor": 5
}
