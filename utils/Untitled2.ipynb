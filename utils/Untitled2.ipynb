{
 "cells": [
  {
   "cell_type": "code",
   "execution_count": null,
   "id": "7d64419f-d452-4379-b8fc-94a30e00db5a",
   "metadata": {},
   "outputs": [],
   "source": [
    "import numpy as np\n",
    "\n",
    "# 假设数据保存在'./datasets/'文件夹下\n",
    "try:\n",
    "    data = np.load('./datasets/mnist.npz')\n",
    "    x_train, y_train, x_test, y_test = data['x_train'],data['y_train'],data['x_test'],data['y_test']\n",
    "    \n",
    "    # 可以将其中一条数据保存成txt文件，查看一下，会对这组数据有个直观的感受\n",
    "    # np.savetxt('test.txt',x_train[0],fmt='%3d',newline='nn')\n",
    "    \n",
    "    # 将数据归一化\n",
    "    x_train, x_test = x_train/255.0, x_test/255.0\n",
    "except Exception as e:\n",
    "    print('%s' %e)"
   ]
  }
 ],
 "metadata": {
  "kernelspec": {
   "display_name": "Python 3 (ipykernel)",
   "language": "python",
   "name": "python3"
  },
  "language_info": {
   "codemirror_mode": {
    "name": "ipython",
    "version": 3
   },
   "file_extension": ".py",
   "mimetype": "text/x-python",
   "name": "python",
   "nbconvert_exporter": "python",
   "pygments_lexer": "ipython3",
   "version": "3.8.10"
  }
 },
 "nbformat": 4,
 "nbformat_minor": 5
}
